{
 "cells": [
  {
   "cell_type": "markdown",
   "metadata": {},
   "source": [
    "## Homework instructions\n",
    "\n",
    "First, this is is the sentiment analyzer tool from this week's video https://github.com/shangeth/NLTK-Twitter-Sentiment-Analysis . When combined with this flask boilerplate login example, a working app for users can be made https://github.com/alectrocute/flaskSaaS \n",
    "\n",
    "Homework\n",
    "\n",
    "The homework for this week is to build 3 different types of regression lines to predict stock prices using Python, then print out the prediction for the best performing one.\n",
    "\n",
    "Step 1 - Go to Yahoo Finance and find a stock price that you want to predict. Click on historical data, then download the CSV of that stocks price history https://finance.yahoo.com/quote/AAPL/history?p=AAPL  \n",
    "\n",
    "Step 2 - Use Scikit learn to try out 3 different types of regression models to predict the price of that stock for a future date. See this https://towardsdatascience.com/in-12-minutes-stocks-analysis-with-pandas-and-scikit-learn-a8d8a7b50ee7  as an example and the scikit learn docs to see all the different types of regression models you can easily build (i.e quadratic, linear, lasso, ridge, etc.)\n",
    "\n",
    "This is also a helpful example - https://medium.com/@randerson112358/predict-stock-prices-using-python-machine-learning-53aa024da20a\n",
    "\n",
    "Step 3 - Visualize your result using matplotlib or another plotting library of your choice\n",
    "\n",
    "Once your code is complete, upload it to GitHub and send the github link to gradedhomeworkassignments@gmail.com with your full name as the subject line.  Good luck!"
   ]
  },
  {
   "cell_type": "code",
   "execution_count": 1,
   "metadata": {},
   "outputs": [],
   "source": [
    "import numpy as np\n",
    "import pandas as pd\n",
    "import matplotlib.pyplot as plt\n",
    "import seaborn as sns\n",
    "import datetime\n",
    "sns.set()\n",
    "import math\n",
    "from sklearn import preprocessing"
   ]
  },
  {
   "cell_type": "markdown",
   "metadata": {},
   "source": [
    "### Step 1 - Go to Yahoo Finance and find a stock price to predict. "
   ]
  },
  {
   "cell_type": "code",
   "execution_count": 2,
   "metadata": {},
   "outputs": [
    {
     "data": {
      "text/html": [
       "<div>\n",
       "<style scoped>\n",
       "    .dataframe tbody tr th:only-of-type {\n",
       "        vertical-align: middle;\n",
       "    }\n",
       "\n",
       "    .dataframe tbody tr th {\n",
       "        vertical-align: top;\n",
       "    }\n",
       "\n",
       "    .dataframe thead th {\n",
       "        text-align: right;\n",
       "    }\n",
       "</style>\n",
       "<table border=\"1\" class=\"dataframe\">\n",
       "  <thead>\n",
       "    <tr style=\"text-align: right;\">\n",
       "      <th></th>\n",
       "      <th>High</th>\n",
       "      <th>Low</th>\n",
       "      <th>Open</th>\n",
       "      <th>Close</th>\n",
       "      <th>Volume</th>\n",
       "      <th>Adj Close</th>\n",
       "    </tr>\n",
       "    <tr>\n",
       "      <th>Date</th>\n",
       "      <th></th>\n",
       "      <th></th>\n",
       "      <th></th>\n",
       "      <th></th>\n",
       "      <th></th>\n",
       "      <th></th>\n",
       "    </tr>\n",
       "  </thead>\n",
       "  <tbody>\n",
       "    <tr>\n",
       "      <th>2010-01-04</th>\n",
       "      <td>23.764999</td>\n",
       "      <td>23.575001</td>\n",
       "      <td>23.709999</td>\n",
       "      <td>23.705000</td>\n",
       "      <td>2606200.0</td>\n",
       "      <td>10.262468</td>\n",
       "    </tr>\n",
       "    <tr>\n",
       "      <th>2010-01-05</th>\n",
       "      <td>23.465000</td>\n",
       "      <td>23.150000</td>\n",
       "      <td>23.434999</td>\n",
       "      <td>23.225000</td>\n",
       "      <td>2666600.0</td>\n",
       "      <td>10.054667</td>\n",
       "    </tr>\n",
       "    <tr>\n",
       "      <th>2010-01-06</th>\n",
       "      <td>23.045000</td>\n",
       "      <td>22.785000</td>\n",
       "      <td>22.915001</td>\n",
       "      <td>23.040001</td>\n",
       "      <td>3020800.0</td>\n",
       "      <td>9.974573</td>\n",
       "    </tr>\n",
       "    <tr>\n",
       "      <th>2010-01-07</th>\n",
       "      <td>23.325001</td>\n",
       "      <td>23.120001</td>\n",
       "      <td>23.250000</td>\n",
       "      <td>23.290001</td>\n",
       "      <td>4454600.0</td>\n",
       "      <td>10.082803</td>\n",
       "    </tr>\n",
       "    <tr>\n",
       "      <th>2010-01-08</th>\n",
       "      <td>23.415001</td>\n",
       "      <td>23.174999</td>\n",
       "      <td>23.270000</td>\n",
       "      <td>23.389999</td>\n",
       "      <td>2675600.0</td>\n",
       "      <td>10.126096</td>\n",
       "    </tr>\n",
       "  </tbody>\n",
       "</table>\n",
       "</div>"
      ],
      "text/plain": [
       "                 High        Low       Open      Close     Volume  Adj Close\n",
       "Date                                                                        \n",
       "2010-01-04  23.764999  23.575001  23.709999  23.705000  2606200.0  10.262468\n",
       "2010-01-05  23.465000  23.150000  23.434999  23.225000  2666600.0  10.054667\n",
       "2010-01-06  23.045000  22.785000  22.915001  23.040001  3020800.0   9.974573\n",
       "2010-01-07  23.325001  23.120001  23.250000  23.290001  4454600.0  10.082803\n",
       "2010-01-08  23.415001  23.174999  23.270000  23.389999  2675600.0  10.126096"
      ]
     },
     "execution_count": 2,
     "metadata": {},
     "output_type": "execute_result"
    }
   ],
   "source": [
    "import pandas_datareader.data as web\n",
    "import yfinance as yf\n",
    "\n",
    "start = datetime.datetime(2010, 1, 1)\n",
    "end = datetime.datetime(2017, 1, 11)\n",
    "df = web.DataReader(\"AZN\", 'yahoo', start, end)\n",
    "\n",
    "df.to_csv('AZN.csv')\n",
    "df.head()"
   ]
  },
  {
   "cell_type": "code",
   "execution_count": 8,
   "metadata": {},
   "outputs": [],
   "source": [
    "#df = pd.read_csv('AZN.csv')"
   ]
  },
  {
   "cell_type": "code",
   "execution_count": 3,
   "metadata": {},
   "outputs": [
    {
     "data": {
      "text/plain": [
       "High         2.863000e+01\n",
       "Low          2.797000e+01\n",
       "Open         2.847000e+01\n",
       "Close        2.818000e+01\n",
       "Volume       7.149700e+06\n",
       "Adj Close    2.498489e+01\n",
       "Name: 2017-01-11 00:00:00, dtype: float64"
      ]
     },
     "execution_count": 3,
     "metadata": {},
     "output_type": "execute_result"
    }
   ],
   "source": [
    "df.iloc[-1]"
   ]
  },
  {
   "cell_type": "markdown",
   "metadata": {},
   "source": [
    "Step 2 - Use Scikit learn to try out 3 different types of regression models to predict the price of that stock for a future date. See this https://towardsdatascience.com/in-12-minutes-stocks-analysis-with-pandas-and-scikit-learn-a8d8a7b50ee7  as an example and the scikit learn docs to see all the different types of regression models you can easily build (i.e quadratic, linear, lasso, ridge, etc.)"
   ]
  },
  {
   "cell_type": "markdown",
   "metadata": {},
   "source": [
    "Feature Engineering"
   ]
  },
  {
   "cell_type": "code",
   "execution_count": 4,
   "metadata": {},
   "outputs": [],
   "source": [
    "dfreg = df.loc[:,['Adj Close', 'Volume']]\n",
    "#high low percentage\n",
    "dfreg['HL_PCT'] = (df['High'] - df['Low'])/df['Close'] * 100.0\n",
    "#close open percentage change\n",
    "dfreg['PCT_change'] = (df['Close'] - df['Open']) / df['Open'] * 100.0"
   ]
  },
  {
   "cell_type": "markdown",
   "metadata": {},
   "source": [
    "Pre-processing & Cross Validation"
   ]
  },
  {
   "cell_type": "code",
   "execution_count": 5,
   "metadata": {},
   "outputs": [],
   "source": [
    "#Drop Missing value\n",
    "dfreg.fillna(value=-99999, inplace=True)"
   ]
  },
  {
   "cell_type": "code",
   "execution_count": 6,
   "metadata": {},
   "outputs": [
    {
     "data": {
      "text/plain": [
       "18"
      ]
     },
     "execution_count": 6,
     "metadata": {},
     "output_type": "execute_result"
    }
   ],
   "source": [
    "#set a variable for predicting 'n' days out into the future\n",
    "forecast_out = int(math.ceil(0.01 * len(dfreg)))\n",
    "forecast_out #'n=5' days"
   ]
  },
  {
   "cell_type": "code",
   "execution_count": 7,
   "metadata": {},
   "outputs": [
    {
     "data": {
      "text/html": [
       "<div>\n",
       "<style scoped>\n",
       "    .dataframe tbody tr th:only-of-type {\n",
       "        vertical-align: middle;\n",
       "    }\n",
       "\n",
       "    .dataframe tbody tr th {\n",
       "        vertical-align: top;\n",
       "    }\n",
       "\n",
       "    .dataframe thead th {\n",
       "        text-align: right;\n",
       "    }\n",
       "</style>\n",
       "<table border=\"1\" class=\"dataframe\">\n",
       "  <thead>\n",
       "    <tr style=\"text-align: right;\">\n",
       "      <th></th>\n",
       "      <th>Adj Close</th>\n",
       "      <th>Volume</th>\n",
       "      <th>HL_PCT</th>\n",
       "      <th>PCT_change</th>\n",
       "      <th>label</th>\n",
       "    </tr>\n",
       "    <tr>\n",
       "      <th>Date</th>\n",
       "      <th></th>\n",
       "      <th></th>\n",
       "      <th></th>\n",
       "      <th></th>\n",
       "      <th></th>\n",
       "    </tr>\n",
       "  </thead>\n",
       "  <tbody>\n",
       "    <tr>\n",
       "      <th>2010-01-04</th>\n",
       "      <td>10.262468</td>\n",
       "      <td>2606200.0</td>\n",
       "      <td>0.801513</td>\n",
       "      <td>-0.021085</td>\n",
       "      <td>10.063323</td>\n",
       "    </tr>\n",
       "    <tr>\n",
       "      <th>2010-01-05</th>\n",
       "      <td>10.054667</td>\n",
       "      <td>2666600.0</td>\n",
       "      <td>1.356299</td>\n",
       "      <td>-0.896092</td>\n",
       "      <td>10.139085</td>\n",
       "    </tr>\n",
       "    <tr>\n",
       "      <th>2010-01-06</th>\n",
       "      <td>9.974573</td>\n",
       "      <td>3020800.0</td>\n",
       "      <td>1.128473</td>\n",
       "      <td>0.545494</td>\n",
       "      <td>10.145579</td>\n",
       "    </tr>\n",
       "    <tr>\n",
       "      <th>2010-01-07</th>\n",
       "      <td>10.082803</td>\n",
       "      <td>4454600.0</td>\n",
       "      <td>0.880206</td>\n",
       "      <td>0.172047</td>\n",
       "      <td>10.502835</td>\n",
       "    </tr>\n",
       "    <tr>\n",
       "      <th>2010-01-08</th>\n",
       "      <td>10.126096</td>\n",
       "      <td>2675600.0</td>\n",
       "      <td>1.026087</td>\n",
       "      <td>0.515681</td>\n",
       "      <td>10.234306</td>\n",
       "    </tr>\n",
       "    <tr>\n",
       "      <th>2010-01-11</th>\n",
       "      <td>10.307923</td>\n",
       "      <td>4584000.0</td>\n",
       "      <td>0.944983</td>\n",
       "      <td>0.337126</td>\n",
       "      <td>10.052179</td>\n",
       "    </tr>\n",
       "    <tr>\n",
       "      <th>2010-01-12</th>\n",
       "      <td>10.260305</td>\n",
       "      <td>3153200.0</td>\n",
       "      <td>0.696206</td>\n",
       "      <td>0.317464</td>\n",
       "      <td>10.070859</td>\n",
       "    </tr>\n",
       "    <tr>\n",
       "      <th>2010-01-13</th>\n",
       "      <td>10.500577</td>\n",
       "      <td>4653000.0</td>\n",
       "      <td>1.175015</td>\n",
       "      <td>0.434781</td>\n",
       "      <td>10.299688</td>\n",
       "    </tr>\n",
       "    <tr>\n",
       "      <th>2010-01-14</th>\n",
       "      <td>10.691060</td>\n",
       "      <td>5256200.0</td>\n",
       "      <td>0.688399</td>\n",
       "      <td>0.243554</td>\n",
       "      <td>10.269336</td>\n",
       "    </tr>\n",
       "    <tr>\n",
       "      <th>2010-01-15</th>\n",
       "      <td>10.574171</td>\n",
       "      <td>1553000.0</td>\n",
       "      <td>1.125894</td>\n",
       "      <td>-0.488901</td>\n",
       "      <td>10.372074</td>\n",
       "    </tr>\n",
       "    <tr>\n",
       "      <th>2010-01-19</th>\n",
       "      <td>10.909690</td>\n",
       "      <td>5796000.0</td>\n",
       "      <td>1.845231</td>\n",
       "      <td>1.633397</td>\n",
       "      <td>10.259993</td>\n",
       "    </tr>\n",
       "    <tr>\n",
       "      <th>2010-01-20</th>\n",
       "      <td>10.864233</td>\n",
       "      <td>4256400.0</td>\n",
       "      <td>1.394702</td>\n",
       "      <td>0.000000</td>\n",
       "      <td>10.257659</td>\n",
       "    </tr>\n",
       "    <tr>\n",
       "      <th>2010-01-21</th>\n",
       "      <td>10.721369</td>\n",
       "      <td>6323200.0</td>\n",
       "      <td>2.362209</td>\n",
       "      <td>-2.172629</td>\n",
       "      <td>10.257659</td>\n",
       "    </tr>\n",
       "    <tr>\n",
       "      <th>2010-01-22</th>\n",
       "      <td>10.572006</td>\n",
       "      <td>2438600.0</td>\n",
       "      <td>2.805076</td>\n",
       "      <td>-0.993314</td>\n",
       "      <td>10.252987</td>\n",
       "    </tr>\n",
       "    <tr>\n",
       "      <th>2010-01-25</th>\n",
       "      <td>10.706215</td>\n",
       "      <td>2686400.0</td>\n",
       "      <td>0.990703</td>\n",
       "      <td>0.385627</td>\n",
       "      <td>10.192278</td>\n",
       "    </tr>\n",
       "    <tr>\n",
       "      <th>2010-01-26</th>\n",
       "      <td>10.838260</td>\n",
       "      <td>3648200.0</td>\n",
       "      <td>1.437989</td>\n",
       "      <td>1.090250</td>\n",
       "      <td>10.168927</td>\n",
       "    </tr>\n",
       "    <tr>\n",
       "      <th>2010-01-27</th>\n",
       "      <td>10.745179</td>\n",
       "      <td>2561200.0</td>\n",
       "      <td>1.390005</td>\n",
       "      <td>0.587641</td>\n",
       "      <td>10.140909</td>\n",
       "    </tr>\n",
       "    <tr>\n",
       "      <th>2010-01-28</th>\n",
       "      <td>10.165060</td>\n",
       "      <td>12996600.0</td>\n",
       "      <td>3.066437</td>\n",
       "      <td>-1.365263</td>\n",
       "      <td>10.157253</td>\n",
       "    </tr>\n",
       "    <tr>\n",
       "      <th>2010-01-29</th>\n",
       "      <td>10.063323</td>\n",
       "      <td>2158000.0</td>\n",
       "      <td>1.290597</td>\n",
       "      <td>-0.683614</td>\n",
       "      <td>10.073195</td>\n",
       "    </tr>\n",
       "    <tr>\n",
       "      <th>2010-02-01</th>\n",
       "      <td>10.139085</td>\n",
       "      <td>3013200.0</td>\n",
       "      <td>0.832620</td>\n",
       "      <td>0.471903</td>\n",
       "      <td>10.302026</td>\n",
       "    </tr>\n",
       "  </tbody>\n",
       "</table>\n",
       "</div>"
      ],
      "text/plain": [
       "            Adj Close      Volume    HL_PCT  PCT_change      label\n",
       "Date                                                              \n",
       "2010-01-04  10.262468   2606200.0  0.801513   -0.021085  10.063323\n",
       "2010-01-05  10.054667   2666600.0  1.356299   -0.896092  10.139085\n",
       "2010-01-06   9.974573   3020800.0  1.128473    0.545494  10.145579\n",
       "2010-01-07  10.082803   4454600.0  0.880206    0.172047  10.502835\n",
       "2010-01-08  10.126096   2675600.0  1.026087    0.515681  10.234306\n",
       "2010-01-11  10.307923   4584000.0  0.944983    0.337126  10.052179\n",
       "2010-01-12  10.260305   3153200.0  0.696206    0.317464  10.070859\n",
       "2010-01-13  10.500577   4653000.0  1.175015    0.434781  10.299688\n",
       "2010-01-14  10.691060   5256200.0  0.688399    0.243554  10.269336\n",
       "2010-01-15  10.574171   1553000.0  1.125894   -0.488901  10.372074\n",
       "2010-01-19  10.909690   5796000.0  1.845231    1.633397  10.259993\n",
       "2010-01-20  10.864233   4256400.0  1.394702    0.000000  10.257659\n",
       "2010-01-21  10.721369   6323200.0  2.362209   -2.172629  10.257659\n",
       "2010-01-22  10.572006   2438600.0  2.805076   -0.993314  10.252987\n",
       "2010-01-25  10.706215   2686400.0  0.990703    0.385627  10.192278\n",
       "2010-01-26  10.838260   3648200.0  1.437989    1.090250  10.168927\n",
       "2010-01-27  10.745179   2561200.0  1.390005    0.587641  10.140909\n",
       "2010-01-28  10.165060  12996600.0  3.066437   -1.365263  10.157253\n",
       "2010-01-29  10.063323   2158000.0  1.290597   -0.683614  10.073195\n",
       "2010-02-01  10.139085   3013200.0  0.832620    0.471903  10.302026"
      ]
     },
     "execution_count": 7,
     "metadata": {},
     "output_type": "execute_result"
    }
   ],
   "source": [
    "forecast_col = 'Adj Close'\n",
    "#create another column for target shifted n units up. Note that this is the prediction.\n",
    "dfreg['label'] = dfreg[forecast_col].shift(-forecast_out)\n",
    "dfreg.head(20)"
   ]
  },
  {
   "cell_type": "code",
   "execution_count": 8,
   "metadata": {},
   "outputs": [],
   "source": [
    "#dropping the label column above, as it's what we want to predict.\n",
    "# convert the datagram to a numpy array\n",
    "X = np.array(dfreg.drop(['label'], 1))\n",
    "#scale all values in X so that everyoe can have the same distribution for linear regression\n",
    "X = preprocessing.scale(X)"
   ]
  },
  {
   "cell_type": "code",
   "execution_count": 9,
   "metadata": {},
   "outputs": [],
   "source": [
    "# find data series of late X and early X (train) for model generation and evaluation\n",
    "X_lately = X[-forecast_out:]\n",
    "# remove the last '5' rows. \n",
    "# We've shifted the prediction/label up by 5 rows, so there won't be any prediction/label for the corresponding X value.\n",
    "# new X dataframe below\n",
    "X = X[:-forecast_out]\n",
    "\n",
    "# separate label and identify it as y\n",
    "y = np.array(dfreg['label'])\n",
    "\n",
    "# get all of the y values except the last '5' days/rows\n",
    "y = y[:-forecast_out]"
   ]
  },
  {
   "cell_type": "markdown",
   "metadata": {},
   "source": [
    "Reminder about index slicing\n",
    "\n",
    "test = [1,2,3,4,5,6,7,8,9,10,11]\n",
    "\n",
    "test[-5:] returns [7, 8, 9, 10, 11]\n",
    "\n",
    "test[:-5] returns [1, 2, 3, 4, 5, 6]"
   ]
  },
  {
   "cell_type": "markdown",
   "metadata": {},
   "source": [
    "### Step 2 - Use Scikit learn to try out 3 different types of regression models"
   ]
  },
  {
   "cell_type": "markdown",
   "metadata": {},
   "source": [
    "#### Split the training and testing set"
   ]
  },
  {
   "cell_type": "code",
   "execution_count": 10,
   "metadata": {},
   "outputs": [],
   "source": [
    "from sklearn.model_selection import train_test_split\n",
    "X_train, X_test, y_train, y_test = train_test_split(X, y, test_size=0.2)"
   ]
  },
  {
   "cell_type": "code",
   "execution_count": 11,
   "metadata": {},
   "outputs": [],
   "source": [
    "from sklearn.linear_model import LinearRegression\n",
    "from sklearn.neighbors import KNeighborsRegressor\n",
    "\n",
    "from sklearn.linear_model import Ridge\n",
    "from sklearn.preprocessing import PolynomialFeatures\n",
    "from sklearn.pipeline import make_pipeline"
   ]
  },
  {
   "cell_type": "code",
   "execution_count": 12,
   "metadata": {},
   "outputs": [
    {
     "data": {
      "text/plain": [
       "0.969146002243363"
      ]
     },
     "execution_count": 12,
     "metadata": {},
     "output_type": "execute_result"
    }
   ],
   "source": [
    "# Linear Regression\n",
    "from sklearn.linear_model import LinearRegression\n",
    "linear = LinearRegression(n_jobs=-1)\n",
    "linear.fit(X_train, y_train)\n",
    "linear.score(X_test, y_test)"
   ]
  },
  {
   "cell_type": "code",
   "execution_count": 13,
   "metadata": {},
   "outputs": [
    {
     "data": {
      "text/plain": [
       "0.9721940638145077"
      ]
     },
     "execution_count": 13,
     "metadata": {},
     "output_type": "execute_result"
    }
   ],
   "source": [
    "from sklearn.pipeline import make_pipeline\n",
    "# Quadratic Regression\n",
    "quadratic = make_pipeline(PolynomialFeatures(2), Ridge())\n",
    "quadratic.fit(X_train, y_train)\n",
    "quadratic.score(X_test, y_test)"
   ]
  },
  {
   "cell_type": "code",
   "execution_count": 14,
   "metadata": {},
   "outputs": [
    {
     "data": {
      "text/plain": [
       "0.971396726162326"
      ]
     },
     "execution_count": 14,
     "metadata": {},
     "output_type": "execute_result"
    }
   ],
   "source": [
    "#SVM\n",
    "from sklearn.svm import SVR\n",
    "# Create and train the Support Vector Machine (Regressor) \n",
    "svr_rbf = SVR(kernel='rbf', C=1e3, gamma=0.1) \n",
    "svr_rbf.fit(X_train, y_train)\n",
    "svr_rbf.score(X_test, y_test)"
   ]
  },
  {
   "cell_type": "code",
   "execution_count": 15,
   "metadata": {},
   "outputs": [
    {
     "data": {
      "text/plain": [
       "0.9594433411958239"
      ]
     },
     "execution_count": 15,
     "metadata": {},
     "output_type": "execute_result"
    }
   ],
   "source": [
    "# KNN Regression\n",
    "knn = KNeighborsRegressor(n_neighbors=2)\n",
    "knn.fit(X_train, y_train)\n",
    "knn.score(X_test, y_test)"
   ]
  },
  {
   "cell_type": "markdown",
   "metadata": {},
   "source": [
    "KNN return the best confidence"
   ]
  },
  {
   "cell_type": "code",
   "execution_count": 21,
   "metadata": {},
   "outputs": [
    {
     "data": {
      "text/plain": [
       "array([25.43600655, 26.79074097, 25.70425129, 27.29225731, 25.26488304,\n",
       "       25.26488304, 23.64020729, 26.30918026, 27.57673931, 25.63548374,\n",
       "       25.06874084, 27.67829323, 28.93565273, 26.82268143, 28.56445217,\n",
       "       28.93565273, 28.78145981, 25.90081978])"
      ]
     },
     "execution_count": 21,
     "metadata": {},
     "output_type": "execute_result"
    }
   ],
   "source": [
    "forecast_set = knn.predict(X_lately)\n",
    "dfreg['Forecast'] = np.nan\n",
    "forecast_set"
   ]
  },
  {
   "cell_type": "code",
   "execution_count": 22,
   "metadata": {},
   "outputs": [
    {
     "data": {
      "text/html": [
       "<div>\n",
       "<style scoped>\n",
       "    .dataframe tbody tr th:only-of-type {\n",
       "        vertical-align: middle;\n",
       "    }\n",
       "\n",
       "    .dataframe tbody tr th {\n",
       "        vertical-align: top;\n",
       "    }\n",
       "\n",
       "    .dataframe thead th {\n",
       "        text-align: right;\n",
       "    }\n",
       "</style>\n",
       "<table border=\"1\" class=\"dataframe\">\n",
       "  <thead>\n",
       "    <tr style=\"text-align: right;\">\n",
       "      <th></th>\n",
       "      <th>Adj Close</th>\n",
       "      <th>Volume</th>\n",
       "      <th>HL_PCT</th>\n",
       "      <th>PCT_change</th>\n",
       "      <th>label</th>\n",
       "      <th>Forecast</th>\n",
       "    </tr>\n",
       "    <tr>\n",
       "      <th>Date</th>\n",
       "      <th></th>\n",
       "      <th></th>\n",
       "      <th></th>\n",
       "      <th></th>\n",
       "      <th></th>\n",
       "      <th></th>\n",
       "    </tr>\n",
       "  </thead>\n",
       "  <tbody>\n",
       "    <tr>\n",
       "      <th>2017-01-25</th>\n",
       "      <td>NaN</td>\n",
       "      <td>NaN</td>\n",
       "      <td>NaN</td>\n",
       "      <td>NaN</td>\n",
       "      <td>26.822681</td>\n",
       "      <td>NaN</td>\n",
       "    </tr>\n",
       "    <tr>\n",
       "      <th>2017-01-26</th>\n",
       "      <td>NaN</td>\n",
       "      <td>NaN</td>\n",
       "      <td>NaN</td>\n",
       "      <td>NaN</td>\n",
       "      <td>28.564452</td>\n",
       "      <td>NaN</td>\n",
       "    </tr>\n",
       "    <tr>\n",
       "      <th>2017-01-27</th>\n",
       "      <td>NaN</td>\n",
       "      <td>NaN</td>\n",
       "      <td>NaN</td>\n",
       "      <td>NaN</td>\n",
       "      <td>28.935653</td>\n",
       "      <td>NaN</td>\n",
       "    </tr>\n",
       "    <tr>\n",
       "      <th>2017-01-28</th>\n",
       "      <td>NaN</td>\n",
       "      <td>NaN</td>\n",
       "      <td>NaN</td>\n",
       "      <td>NaN</td>\n",
       "      <td>28.781460</td>\n",
       "      <td>NaN</td>\n",
       "    </tr>\n",
       "    <tr>\n",
       "      <th>2017-01-29</th>\n",
       "      <td>NaN</td>\n",
       "      <td>NaN</td>\n",
       "      <td>NaN</td>\n",
       "      <td>NaN</td>\n",
       "      <td>25.900820</td>\n",
       "      <td>NaN</td>\n",
       "    </tr>\n",
       "  </tbody>\n",
       "</table>\n",
       "</div>"
      ],
      "text/plain": [
       "            Adj Close  Volume  HL_PCT  PCT_change      label  Forecast\n",
       "Date                                                                  \n",
       "2017-01-25        NaN     NaN     NaN         NaN  26.822681       NaN\n",
       "2017-01-26        NaN     NaN     NaN         NaN  28.564452       NaN\n",
       "2017-01-27        NaN     NaN     NaN         NaN  28.935653       NaN\n",
       "2017-01-28        NaN     NaN     NaN         NaN  28.781460       NaN\n",
       "2017-01-29        NaN     NaN     NaN         NaN  25.900820       NaN"
      ]
     },
     "execution_count": 22,
     "metadata": {},
     "output_type": "execute_result"
    }
   ],
   "source": [
    "dfreg.tail()"
   ]
  },
  {
   "cell_type": "markdown",
   "metadata": {},
   "source": [
    "### Step 3: Visulize the prediction results"
   ]
  },
  {
   "cell_type": "code",
   "execution_count": 23,
   "metadata": {},
   "outputs": [
    {
     "data": {
      "image/png": "[encoded data removed]",
      "text/plain": [
       "<Figure size 432x288 with 1 Axes>"
      ]
     },
     "metadata": {
      "needs_background": "light"
     },
     "output_type": "display_data"
    }
   ],
   "source": [
    "import datetime\n",
    "\n",
    "last_date = dfreg.iloc[-1].name #returns Timestamp('2017-01-11')\n",
    "last_unix = last_date\n",
    "next_unix = last_unix + datetime.timedelta(days=1) #returns Timestamp('2017-01-30 00:00:00')\n",
    "\n",
    "for i in forecast_set:\n",
    "    next_date = next_unix\n",
    "    next_unix += datetime.timedelta(days=1)\n",
    "    dfreg.loc[next_date] = [np.nan for _ in range(len(dfreg.columns)-1)]+[i]\n",
    "dfreg['Adj Close'].tail(500).plot()\n",
    "dfreg['Forecast'].tail(500).plot()\n",
    "plt.legend(loc=4)\n",
    "plt.xlabel('Date')\n",
    "plt.ylabel('Price')\n",
    "plt.show()"
   ]
  },
  {
   "cell_type": "code",
   "execution_count": null,
   "metadata": {},
   "outputs": [],
   "source": []
  }
 ],
 "metadata": {
  "kernelspec": {
   "display_name": "Python 3",
   "language": "python",
   "name": "python3"
  },
  "language_info": {
   "codemirror_mode": {
    "name": "ipython",
    "version": 3
   },
   "file_extension": ".py",
   "mimetype": "text/x-python",
   "name": "python",
   "nbconvert_exporter": "python",
   "pygments_lexer": "ipython3",
   "version": "3.7.3"
  }
 },
 "nbformat": 4,
 "nbformat_minor": 2
}
